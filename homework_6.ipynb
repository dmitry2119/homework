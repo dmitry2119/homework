{
 "cells": [
  {
   "cell_type": "code",
   "execution_count": 1,
   "id": "b96d3c77",
   "metadata": {},
   "outputs": [],
   "source": [
    "# импортируем библиотеки:\n",
    "import pandas as pd\n",
    "import numpy as np\n",
    "import seaborn as sns\n",
    "from sklearn.metrics import mean_squared_error, r2_score"
   ]
  },
  {
   "cell_type": "code",
   "execution_count": 2,
   "id": "65fe541d",
   "metadata": {},
   "outputs": [
    {
     "data": {
      "text/html": [
       "<div>\n",
       "<style scoped>\n",
       "    .dataframe tbody tr th:only-of-type {\n",
       "        vertical-align: middle;\n",
       "    }\n",
       "\n",
       "    .dataframe tbody tr th {\n",
       "        vertical-align: top;\n",
       "    }\n",
       "\n",
       "    .dataframe thead th {\n",
       "        text-align: right;\n",
       "    }\n",
       "</style>\n",
       "<table border=\"1\" class=\"dataframe\">\n",
       "  <thead>\n",
       "    <tr style=\"text-align: right;\">\n",
       "      <th></th>\n",
       "      <th>index</th>\n",
       "      <th>x_0</th>\n",
       "      <th>x_1</th>\n",
       "      <th>x_2</th>\n",
       "      <th>x_3</th>\n",
       "      <th>x_4</th>\n",
       "      <th>x_5</th>\n",
       "      <th>x_6</th>\n",
       "      <th>x_7</th>\n",
       "      <th>x_8</th>\n",
       "      <th>...</th>\n",
       "      <th>x_46</th>\n",
       "      <th>x_47</th>\n",
       "      <th>x_48</th>\n",
       "      <th>x_49</th>\n",
       "      <th>x_50</th>\n",
       "      <th>x_51</th>\n",
       "      <th>x_52</th>\n",
       "      <th>x_53</th>\n",
       "      <th>x_54</th>\n",
       "      <th>target</th>\n",
       "    </tr>\n",
       "  </thead>\n",
       "  <tbody>\n",
       "    <tr>\n",
       "      <th>0</th>\n",
       "      <td>0</td>\n",
       "      <td>0.001377</td>\n",
       "      <td>-0.312330</td>\n",
       "      <td>3.830221</td>\n",
       "      <td>0.166320</td>\n",
       "      <td>-1.224697</td>\n",
       "      <td>0.429649</td>\n",
       "      <td>1.298595</td>\n",
       "      <td>0.075777</td>\n",
       "      <td>-0.305407</td>\n",
       "      <td>...</td>\n",
       "      <td>-3.978286</td>\n",
       "      <td>0.734183</td>\n",
       "      <td>-0.065436</td>\n",
       "      <td>0.184826</td>\n",
       "      <td>-6.191027</td>\n",
       "      <td>-1.641520</td>\n",
       "      <td>-0.595980</td>\n",
       "      <td>0.302194</td>\n",
       "      <td>-1.016487</td>\n",
       "      <td>-1.545864</td>\n",
       "    </tr>\n",
       "    <tr>\n",
       "      <th>1</th>\n",
       "      <td>1</td>\n",
       "      <td>0.013704</td>\n",
       "      <td>-0.027573</td>\n",
       "      <td>1.005470</td>\n",
       "      <td>0.210619</td>\n",
       "      <td>0.127280</td>\n",
       "      <td>-0.132307</td>\n",
       "      <td>0.339098</td>\n",
       "      <td>-0.055844</td>\n",
       "      <td>0.021325</td>\n",
       "      <td>...</td>\n",
       "      <td>0.707780</td>\n",
       "      <td>0.010771</td>\n",
       "      <td>0.010401</td>\n",
       "      <td>-0.089216</td>\n",
       "      <td>-0.859887</td>\n",
       "      <td>-0.442245</td>\n",
       "      <td>-0.031124</td>\n",
       "      <td>0.028088</td>\n",
       "      <td>-0.146129</td>\n",
       "      <td>-10.972976</td>\n",
       "    </tr>\n",
       "    <tr>\n",
       "      <th>2</th>\n",
       "      <td>2</td>\n",
       "      <td>0.052899</td>\n",
       "      <td>-0.187180</td>\n",
       "      <td>2.051134</td>\n",
       "      <td>0.114417</td>\n",
       "      <td>0.087221</td>\n",
       "      <td>-0.114951</td>\n",
       "      <td>1.411995</td>\n",
       "      <td>-0.103319</td>\n",
       "      <td>-0.237249</td>\n",
       "      <td>...</td>\n",
       "      <td>-2.085095</td>\n",
       "      <td>0.404859</td>\n",
       "      <td>0.016389</td>\n",
       "      <td>0.008621</td>\n",
       "      <td>-2.502265</td>\n",
       "      <td>-0.689139</td>\n",
       "      <td>-0.424500</td>\n",
       "      <td>-0.127823</td>\n",
       "      <td>-0.609472</td>\n",
       "      <td>-1.342009</td>\n",
       "    </tr>\n",
       "    <tr>\n",
       "      <th>3</th>\n",
       "      <td>3</td>\n",
       "      <td>-0.106739</td>\n",
       "      <td>0.048862</td>\n",
       "      <td>0.606170</td>\n",
       "      <td>0.064275</td>\n",
       "      <td>0.360796</td>\n",
       "      <td>0.030926</td>\n",
       "      <td>-0.393131</td>\n",
       "      <td>0.016244</td>\n",
       "      <td>-0.017229</td>\n",
       "      <td>...</td>\n",
       "      <td>-0.285642</td>\n",
       "      <td>0.048705</td>\n",
       "      <td>-0.001868</td>\n",
       "      <td>-0.050163</td>\n",
       "      <td>-0.366623</td>\n",
       "      <td>-0.003307</td>\n",
       "      <td>-0.071816</td>\n",
       "      <td>-0.000375</td>\n",
       "      <td>-0.046915</td>\n",
       "      <td>-1.244498</td>\n",
       "    </tr>\n",
       "    <tr>\n",
       "      <th>4</th>\n",
       "      <td>4</td>\n",
       "      <td>0.041890</td>\n",
       "      <td>0.121760</td>\n",
       "      <td>-0.684213</td>\n",
       "      <td>0.155978</td>\n",
       "      <td>0.542228</td>\n",
       "      <td>-0.204201</td>\n",
       "      <td>-0.143448</td>\n",
       "      <td>-0.039893</td>\n",
       "      <td>0.134491</td>\n",
       "      <td>...</td>\n",
       "      <td>2.198981</td>\n",
       "      <td>-0.123793</td>\n",
       "      <td>0.032411</td>\n",
       "      <td>-0.067868</td>\n",
       "      <td>1.991105</td>\n",
       "      <td>0.455984</td>\n",
       "      <td>0.246094</td>\n",
       "      <td>-0.147255</td>\n",
       "      <td>0.382327</td>\n",
       "      <td>1.686629</td>\n",
       "    </tr>\n",
       "  </tbody>\n",
       "</table>\n",
       "<p>5 rows × 57 columns</p>\n",
       "</div>"
      ],
      "text/plain": [
       "   index       x_0       x_1       x_2       x_3       x_4       x_5  \\\n",
       "0      0  0.001377 -0.312330  3.830221  0.166320 -1.224697  0.429649   \n",
       "1      1  0.013704 -0.027573  1.005470  0.210619  0.127280 -0.132307   \n",
       "2      2  0.052899 -0.187180  2.051134  0.114417  0.087221 -0.114951   \n",
       "3      3 -0.106739  0.048862  0.606170  0.064275  0.360796  0.030926   \n",
       "4      4  0.041890  0.121760 -0.684213  0.155978  0.542228 -0.204201   \n",
       "\n",
       "        x_6       x_7       x_8  ...      x_46      x_47      x_48      x_49  \\\n",
       "0  1.298595  0.075777 -0.305407  ... -3.978286  0.734183 -0.065436  0.184826   \n",
       "1  0.339098 -0.055844  0.021325  ...  0.707780  0.010771  0.010401 -0.089216   \n",
       "2  1.411995 -0.103319 -0.237249  ... -2.085095  0.404859  0.016389  0.008621   \n",
       "3 -0.393131  0.016244 -0.017229  ... -0.285642  0.048705 -0.001868 -0.050163   \n",
       "4 -0.143448 -0.039893  0.134491  ...  2.198981 -0.123793  0.032411 -0.067868   \n",
       "\n",
       "       x_50      x_51      x_52      x_53      x_54     target  \n",
       "0 -6.191027 -1.641520 -0.595980  0.302194 -1.016487  -1.545864  \n",
       "1 -0.859887 -0.442245 -0.031124  0.028088 -0.146129 -10.972976  \n",
       "2 -2.502265 -0.689139 -0.424500 -0.127823 -0.609472  -1.342009  \n",
       "3 -0.366623 -0.003307 -0.071816 -0.000375 -0.046915  -1.244498  \n",
       "4  1.991105  0.455984  0.246094 -0.147255  0.382327   1.686629  \n",
       "\n",
       "[5 rows x 57 columns]"
      ]
     },
     "execution_count": 2,
     "metadata": {},
     "output_type": "execute_result"
    }
   ],
   "source": [
    "# загружаем файл:\n",
    "data = pd.read_csv('train.csv')\n",
    "# выводим первые 5 строк:\n",
    "data.head()"
   ]
  },
  {
   "cell_type": "code",
   "execution_count": 3,
   "id": "bfd7eb00",
   "metadata": {},
   "outputs": [],
   "source": [
    "# объясняющие переменные:\n",
    "x = data.drop(['index', 'target'], axis=1)\n",
    "# зависимые переменные:\n",
    "y = data['target']"
   ]
  },
  {
   "cell_type": "markdown",
   "id": "9d7fb630",
   "metadata": {},
   "source": [
    "## МНК"
   ]
  },
  {
   "cell_type": "markdown",
   "id": "dad38d92",
   "metadata": {},
   "source": [
    "МНК в матричной форме:\n",
    "\n",
    "$$Y = XB + E$$\n",
    "$$\\hat{Y} = X\\hat{B} + \\hat{E}$$\n",
    "откуда:\n",
    "$$\\hat{B} = (X^T X)^{-1} \\cdot X^T Y$$"
   ]
  },
  {
   "cell_type": "code",
   "execution_count": 4,
   "id": "5261c21d",
   "metadata": {},
   "outputs": [],
   "source": [
    "# значения зависимой переменной в матричной форме:\n",
    "Y = np.array(y).reshape(-1, 1)\n",
    "# значения объясняющих переменных переменных в матричной форме:\n",
    "X = np.concatenate([np.ones((x.shape[0], 1)), np.array(x).reshape(-1, x.shape[1])], axis=1)"
   ]
  },
  {
   "cell_type": "markdown",
   "id": "9a5343ff",
   "metadata": {},
   "source": [
    "*Примечание:*\n",
    "Первый столбец матрицы *X*, состоящий только из 1-ек, отражает **свободный член**."
   ]
  },
  {
   "cell_type": "code",
   "execution_count": 5,
   "id": "23aee006",
   "metadata": {},
   "outputs": [],
   "source": [
    "# вычисление параметров линейной регрессии:\n",
    "B = np.linalg.inv(X.T @ X) @ X.T @ Y"
   ]
  },
  {
   "cell_type": "code",
   "execution_count": 6,
   "id": "488096c3",
   "metadata": {},
   "outputs": [],
   "source": [
    "# вычисление предсказанных значений зависимой переменной:\n",
    "Yp = X @ B"
   ]
  },
  {
   "cell_type": "code",
   "execution_count": 7,
   "id": "10302eff",
   "metadata": {},
   "outputs": [
    {
     "name": "stdout",
     "output_type": "stream",
     "text": [
      "R^2: -3.3187606442521407\n",
      "MSE: 188.85126784806096\n"
     ]
    }
   ],
   "source": [
    "# R^2 и MSE:\n",
    "print(f\"R^2: {r2_score(Y, Yp)}\")\n",
    "print(f\"MSE: {mean_squared_error(Y, Yp)}\")"
   ]
  },
  {
   "cell_type": "markdown",
   "id": "eee2331b",
   "metadata": {},
   "source": [
    "Как видим, коэффициент детерминации получился отрицательным, что говорит нам об **очень слабом** объяснении вариации зависимой переменной вариацией объясняющих переменных. MSE тоже имеет чересчур большое значение относительно значений независимых переменных."
   ]
  },
  {
   "cell_type": "markdown",
   "id": "7ec8449d",
   "metadata": {},
   "source": [
    "Попробуем выявить *«лишние»* объясняющие переменные с помощью корреляционной матрицы. Вычислим модуль коэффициента корреляции для каждой из пар объясняющих переменных, для каждой переменной подсчитаем число коррелирующих с ней переменных и отсортируем их по убыванию: "
   ]
  },
  {
   "cell_type": "code",
   "execution_count": 8,
   "id": "41a7ae9f",
   "metadata": {},
   "outputs": [
    {
     "data": {
      "text/plain": [
       "x_9     25\n",
       "x_2     24\n",
       "x_51    24\n",
       "x_1     24\n",
       "x_50    24\n",
       "x_46    24\n",
       "x_54    23\n",
       "x_17    23\n",
       "x_38    23\n",
       "x_37    23\n",
       "x_36    23\n",
       "x_31    23\n",
       "x_24    23\n",
       "x_21    23\n",
       "x_40    23\n",
       "x_47    23\n",
       "x_20    23\n",
       "x_13    23\n",
       "x_12    23\n",
       "x_52    23\n",
       "x_10    23\n",
       "x_8     23\n",
       "x_6     23\n",
       "x_29    22\n",
       "x_5      6\n",
       "x_45     5\n",
       "x_25     4\n",
       "x_30     4\n",
       "x_16     3\n",
       "x_43     3\n",
       "x_3      3\n",
       "x_34     3\n",
       "x_28     3\n",
       "x_49     3\n",
       "x_23     3\n",
       "x_22     3\n",
       "x_14     3\n",
       "x_39     3\n",
       "x_44     2\n",
       "x_41     2\n",
       "x_27     2\n",
       "x_26     2\n",
       "x_18     2\n",
       "x_11     2\n",
       "x_7      2\n",
       "x_4      2\n",
       "x_33     1\n",
       "x_48     1\n",
       "x_53     1\n",
       "x_35     0\n",
       "x_42     0\n",
       "x_32     0\n",
       "x_19     0\n",
       "x_15     0\n",
       "x_0      0\n",
       "dtype: int64"
      ]
     },
     "execution_count": 8,
     "metadata": {},
     "output_type": "execute_result"
    }
   ],
   "source": [
    "# корреляционная матрица (модули коэффициентов корреляции):\n",
    "corr_matrix = x.corr('spearman').abs()\n",
    "# считаем число коррелирующих переменных для каждой объясняющей переменной: \n",
    "multicor = (corr_matrix >= 0.7).sum() - 1\n",
    "# сортируем по убыванию и выводим: \n",
    "multicor.sort_values(ascending=False)"
   ]
  },
  {
   "cell_type": "code",
   "execution_count": 9,
   "id": "0474e4e7",
   "metadata": {},
   "outputs": [
    {
     "data": {
      "text/plain": [
       "Index(['x_1', 'x_2', 'x_6', 'x_8', 'x_9', 'x_10', 'x_12', 'x_13', 'x_17',\n",
       "       'x_20', 'x_21', 'x_24', 'x_29', 'x_31', 'x_36', 'x_37', 'x_38', 'x_40',\n",
       "       'x_46', 'x_47', 'x_50', 'x_51', 'x_52', 'x_54'],\n",
       "      dtype='object')"
      ]
     },
     "execution_count": 9,
     "metadata": {},
     "output_type": "execute_result"
    }
   ],
   "source": [
    "# фиксируем признаки, коррелирующие с более чем 22 другими признаками:\n",
    "gipermult = multicor.index[multicor >= 22]\n",
    "# выводим:\n",
    "gipermult"
   ]
  },
  {
   "cell_type": "code",
   "execution_count": 10,
   "id": "210b8d3c",
   "metadata": {},
   "outputs": [
    {
     "data": {
      "text/plain": [
       "<Axes: >"
      ]
     },
     "execution_count": 10,
     "metadata": {},
     "output_type": "execute_result"
    },
    {
     "data": {
      "image/png": "[encoded data removed]",
      "text/plain": [
       "<Figure size 640x480 with 2 Axes>"
      ]
     },
     "metadata": {},
     "output_type": "display_data"
    }
   ],
   "source": [
    "# тепловая карта корреляционной матрицы:\n",
    "sns.heatmap(corr_matrix.loc[gipermult, gipermult])"
   ]
  },
  {
   "cell_type": "markdown",
   "id": "8e37c6ea",
   "metadata": {},
   "source": [
    "Невероятно, но все отобранные нами признаки коррелируют друг с другом (шкала справа начинается с 0.7). Поэтому из них следует оставить только один, сильнее других коррелирующий с зависимой переменной:"
   ]
  },
  {
   "cell_type": "code",
   "execution_count": 11,
   "id": "304fa09e",
   "metadata": {},
   "outputs": [
    {
     "data": {
      "text/plain": [
       "target    1.000000\n",
       "x_9       0.119846\n",
       "x_40      0.119442\n",
       "x_38      0.111057\n",
       "x_8       0.110069\n",
       "x_24      0.106322\n",
       "x_47      0.103443\n",
       "x_1       0.102587\n",
       "x_12      0.101715\n",
       "x_10      0.092961\n",
       "x_20      0.091939\n",
       "x_54      0.088257\n",
       "x_46      0.087505\n",
       "x_13      0.085694\n",
       "x_17      0.081639\n",
       "x_51      0.077765\n",
       "x_31      0.073575\n",
       "x_52      0.073339\n",
       "x_37      0.067883\n",
       "x_29      0.064630\n",
       "x_50      0.059894\n",
       "x_6       0.048005\n",
       "x_21      0.044232\n",
       "x_2       0.035775\n",
       "x_36      0.029978\n",
       "Name: target, dtype: float64"
      ]
     },
     "execution_count": 11,
     "metadata": {},
     "output_type": "execute_result"
    }
   ],
   "source": [
    "# частные коэффициенты корреляции для каждой из рассматриваемых объясняющих переменных:\n",
    "pd.concat([x[gipermult], y], axis=1).corr('spearman')['target'].abs().sort_values(ascending=False)"
   ]
  },
  {
   "cell_type": "markdown",
   "id": "1973f0fe",
   "metadata": {},
   "source": [
    "Таким образом, остается признак <code>'x_9'</code>. Остальные удаляем:"
   ]
  },
  {
   "cell_type": "code",
   "execution_count": 12,
   "id": "df6c5ee0",
   "metadata": {},
   "outputs": [
    {
     "data": {
      "text/html": [
       "<div>\n",
       "<style scoped>\n",
       "    .dataframe tbody tr th:only-of-type {\n",
       "        vertical-align: middle;\n",
       "    }\n",
       "\n",
       "    .dataframe tbody tr th {\n",
       "        vertical-align: top;\n",
       "    }\n",
       "\n",
       "    .dataframe thead th {\n",
       "        text-align: right;\n",
       "    }\n",
       "</style>\n",
       "<table border=\"1\" class=\"dataframe\">\n",
       "  <thead>\n",
       "    <tr style=\"text-align: right;\">\n",
       "      <th></th>\n",
       "      <th>x_0</th>\n",
       "      <th>x_3</th>\n",
       "      <th>x_4</th>\n",
       "      <th>x_5</th>\n",
       "      <th>x_7</th>\n",
       "      <th>x_9</th>\n",
       "      <th>x_11</th>\n",
       "      <th>x_14</th>\n",
       "      <th>x_15</th>\n",
       "      <th>x_16</th>\n",
       "      <th>...</th>\n",
       "      <th>x_35</th>\n",
       "      <th>x_39</th>\n",
       "      <th>x_41</th>\n",
       "      <th>x_42</th>\n",
       "      <th>x_43</th>\n",
       "      <th>x_44</th>\n",
       "      <th>x_45</th>\n",
       "      <th>x_48</th>\n",
       "      <th>x_49</th>\n",
       "      <th>x_53</th>\n",
       "    </tr>\n",
       "  </thead>\n",
       "  <tbody>\n",
       "    <tr>\n",
       "      <th>0</th>\n",
       "      <td>0.001377</td>\n",
       "      <td>0.166320</td>\n",
       "      <td>-1.224697</td>\n",
       "      <td>0.429649</td>\n",
       "      <td>0.075777</td>\n",
       "      <td>-3.623133</td>\n",
       "      <td>-0.185854</td>\n",
       "      <td>-0.095973</td>\n",
       "      <td>-0.067243</td>\n",
       "      <td>0.040850</td>\n",
       "      <td>...</td>\n",
       "      <td>-0.021983</td>\n",
       "      <td>-0.018270</td>\n",
       "      <td>-0.287940</td>\n",
       "      <td>0.003662</td>\n",
       "      <td>0.007515</td>\n",
       "      <td>-0.124534</td>\n",
       "      <td>3.064841</td>\n",
       "      <td>-0.065436</td>\n",
       "      <td>0.184826</td>\n",
       "      <td>0.302194</td>\n",
       "    </tr>\n",
       "    <tr>\n",
       "      <th>1</th>\n",
       "      <td>0.013704</td>\n",
       "      <td>0.210619</td>\n",
       "      <td>0.127280</td>\n",
       "      <td>-0.132307</td>\n",
       "      <td>-0.055844</td>\n",
       "      <td>0.199990</td>\n",
       "      <td>-0.151687</td>\n",
       "      <td>-0.095735</td>\n",
       "      <td>-0.159117</td>\n",
       "      <td>-0.013057</td>\n",
       "      <td>...</td>\n",
       "      <td>0.003623</td>\n",
       "      <td>-0.029837</td>\n",
       "      <td>0.030786</td>\n",
       "      <td>0.072569</td>\n",
       "      <td>-1.403944</td>\n",
       "      <td>-0.055483</td>\n",
       "      <td>0.002108</td>\n",
       "      <td>0.010401</td>\n",
       "      <td>-0.089216</td>\n",
       "      <td>0.028088</td>\n",
       "    </tr>\n",
       "    <tr>\n",
       "      <th>2</th>\n",
       "      <td>0.052899</td>\n",
       "      <td>0.114417</td>\n",
       "      <td>0.087221</td>\n",
       "      <td>-0.114951</td>\n",
       "      <td>-0.103319</td>\n",
       "      <td>-1.126188</td>\n",
       "      <td>0.046403</td>\n",
       "      <td>0.029560</td>\n",
       "      <td>0.045182</td>\n",
       "      <td>-0.006298</td>\n",
       "      <td>...</td>\n",
       "      <td>0.028521</td>\n",
       "      <td>-0.065539</td>\n",
       "      <td>-0.049050</td>\n",
       "      <td>-0.059835</td>\n",
       "      <td>-0.179663</td>\n",
       "      <td>0.047585</td>\n",
       "      <td>0.193937</td>\n",
       "      <td>0.016389</td>\n",
       "      <td>0.008621</td>\n",
       "      <td>-0.127823</td>\n",
       "    </tr>\n",
       "    <tr>\n",
       "      <th>3</th>\n",
       "      <td>-0.106739</td>\n",
       "      <td>0.064275</td>\n",
       "      <td>0.360796</td>\n",
       "      <td>0.030926</td>\n",
       "      <td>0.016244</td>\n",
       "      <td>0.360626</td>\n",
       "      <td>0.007574</td>\n",
       "      <td>0.051975</td>\n",
       "      <td>-0.194500</td>\n",
       "      <td>-0.008540</td>\n",
       "      <td>...</td>\n",
       "      <td>-0.048291</td>\n",
       "      <td>0.034860</td>\n",
       "      <td>0.052516</td>\n",
       "      <td>0.058515</td>\n",
       "      <td>-0.003555</td>\n",
       "      <td>0.008824</td>\n",
       "      <td>0.396231</td>\n",
       "      <td>-0.001868</td>\n",
       "      <td>-0.050163</td>\n",
       "      <td>-0.000375</td>\n",
       "    </tr>\n",
       "    <tr>\n",
       "      <th>4</th>\n",
       "      <td>0.041890</td>\n",
       "      <td>0.155978</td>\n",
       "      <td>0.542228</td>\n",
       "      <td>-0.204201</td>\n",
       "      <td>-0.039893</td>\n",
       "      <td>1.511975</td>\n",
       "      <td>-0.183853</td>\n",
       "      <td>-0.009378</td>\n",
       "      <td>-0.093505</td>\n",
       "      <td>0.021302</td>\n",
       "      <td>...</td>\n",
       "      <td>0.004597</td>\n",
       "      <td>-0.062165</td>\n",
       "      <td>0.040589</td>\n",
       "      <td>-0.014576</td>\n",
       "      <td>-0.971540</td>\n",
       "      <td>0.046633</td>\n",
       "      <td>-0.945075</td>\n",
       "      <td>0.032411</td>\n",
       "      <td>-0.067868</td>\n",
       "      <td>-0.147255</td>\n",
       "    </tr>\n",
       "  </tbody>\n",
       "</table>\n",
       "<p>5 rows × 32 columns</p>\n",
       "</div>"
      ],
      "text/plain": [
       "        x_0       x_3       x_4       x_5       x_7       x_9      x_11  \\\n",
       "0  0.001377  0.166320 -1.224697  0.429649  0.075777 -3.623133 -0.185854   \n",
       "1  0.013704  0.210619  0.127280 -0.132307 -0.055844  0.199990 -0.151687   \n",
       "2  0.052899  0.114417  0.087221 -0.114951 -0.103319 -1.126188  0.046403   \n",
       "3 -0.106739  0.064275  0.360796  0.030926  0.016244  0.360626  0.007574   \n",
       "4  0.041890  0.155978  0.542228 -0.204201 -0.039893  1.511975 -0.183853   \n",
       "\n",
       "       x_14      x_15      x_16  ...      x_35      x_39      x_41      x_42  \\\n",
       "0 -0.095973 -0.067243  0.040850  ... -0.021983 -0.018270 -0.287940  0.003662   \n",
       "1 -0.095735 -0.159117 -0.013057  ...  0.003623 -0.029837  0.030786  0.072569   \n",
       "2  0.029560  0.045182 -0.006298  ...  0.028521 -0.065539 -0.049050 -0.059835   \n",
       "3  0.051975 -0.194500 -0.008540  ... -0.048291  0.034860  0.052516  0.058515   \n",
       "4 -0.009378 -0.093505  0.021302  ...  0.004597 -0.062165  0.040589 -0.014576   \n",
       "\n",
       "       x_43      x_44      x_45      x_48      x_49      x_53  \n",
       "0  0.007515 -0.124534  3.064841 -0.065436  0.184826  0.302194  \n",
       "1 -1.403944 -0.055483  0.002108  0.010401 -0.089216  0.028088  \n",
       "2 -0.179663  0.047585  0.193937  0.016389  0.008621 -0.127823  \n",
       "3 -0.003555  0.008824  0.396231 -0.001868 -0.050163 -0.000375  \n",
       "4 -0.971540  0.046633 -0.945075  0.032411 -0.067868 -0.147255  \n",
       "\n",
       "[5 rows x 32 columns]"
      ]
     },
     "execution_count": 12,
     "metadata": {},
     "output_type": "execute_result"
    }
   ],
   "source": [
    "# удаляем ненужные признаки:\n",
    "x = x.drop(gipermult.drop('x_9'), axis=1)\n",
    "# выводим первые 5 строк:\n",
    "x.head()"
   ]
  },
  {
   "cell_type": "code",
   "execution_count": 13,
   "id": "4b243fba",
   "metadata": {},
   "outputs": [],
   "source": [
    "# значения зависимой переменной в матричной форме:\n",
    "Y = np.array(y).reshape(-1, 1)\n",
    "# значения объясняющих переменных переменных в матричной форме:\n",
    "X = np.concatenate([np.ones((x.shape[0], 1)), np.array(x).reshape(-1, x.shape[1])], axis=1)"
   ]
  },
  {
   "cell_type": "code",
   "execution_count": 14,
   "id": "bf520031",
   "metadata": {},
   "outputs": [],
   "source": [
    "# вычисление параметров линейной регрессии:\n",
    "B = np.linalg.inv(X.T @ X) @ X.T @ Y"
   ]
  },
  {
   "cell_type": "code",
   "execution_count": 15,
   "id": "4b048232",
   "metadata": {},
   "outputs": [],
   "source": [
    "# вычисление предсказанных значений зависимой переменной:\n",
    "Yp = X @ B"
   ]
  },
  {
   "cell_type": "code",
   "execution_count": 16,
   "id": "930aae01",
   "metadata": {},
   "outputs": [
    {
     "name": "stdout",
     "output_type": "stream",
     "text": [
      "R^2: 0.7069567845145033\n",
      "MSE: 12.814227816112702\n"
     ]
    }
   ],
   "source": [
    "# R^2 и MSE:\n",
    "print(f\"R^2: {r2_score(Y, Yp)}\")\n",
    "print(f\"MSE: {mean_squared_error(Y, Yp)}\")"
   ]
  },
  {
   "cell_type": "markdown",
   "id": "4b334f7c",
   "metadata": {},
   "source": [
    "Таким образом, $R^2$ приобрел более адекватное значение, соответствующей **сильной связи** между вариациями зависимой и независимых переменных. В то же время MSE **сократился в 15 раз!**"
   ]
  }
 ],
 "metadata": {
  "kernelspec": {
   "display_name": "Python 3 (ipykernel)",
   "language": "python",
   "name": "python3"
  },
  "language_info": {
   "codemirror_mode": {
    "name": "ipython",
    "version": 3
   },
   "file_extension": ".py",
   "mimetype": "text/x-python",
   "name": "python",
   "nbconvert_exporter": "python",
   "pygments_lexer": "ipython3",
   "version": "3.11.3"
  }
 },
 "nbformat": 4,
 "nbformat_minor": 5
}
